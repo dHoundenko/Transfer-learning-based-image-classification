{
 "cells": [
  {
   "cell_type": "markdown",
   "metadata": {},
   "source": [
    "# Deep Learning Final Project\n",
    "## Transfer learning-based image classification"
   ]
  },
  {
   "cell_type": "markdown",
   "metadata": {},
   "source": [
    "Danila Goncharenko, 2303788\n",
    "\n",
    "Ana Ferreira, 2308587\n",
    "\n",
    "Mikhail Bichagov, 2304806\n",
    "\n",
    "Experiments: python=3.9.18, torch=2.1.1, torchvision=0.16.1"
   ]
  },
  {
   "cell_type": "markdown",
   "metadata": {},
   "source": [
    "###  Students should try their best to improve the classification performance on EuroSAT by using some strategies like data augmentation. (You can follow these steps to complete the project)\n",
    "\n",
    "i. Download and read the [`miniImageNet`](https://drive.google.com/drive/folders/17a09kkqVivZQFggCw9I_YboJ23tcexNM) & [`EuroSAT(RGB)`](https://github.com/phelber/EuroSAT) datasets. (2 points)\n",
    "\n",
    "ii. Pretrain a model (ResNet10, also can be ResNet18, VGG, Vision Transformer, etc.) on the training set of miniImageNet, evaluate & test it on the validation & test set. (7 points)\n",
    "\n",
    "iii. Save the pretrained model. (1 point)\n",
    "\n",
    "iv. Choose 100 images from EuroSAT dataset, which are from 5 different categories and each category includes 25 samples. You should randomly choose 25 images from these 100 samples as training set (The 25 images should be from the 5 different categories. Each category includes 5 images). (3 points)\n",
    "\n",
    "v. Fine-tune the pretrained model with these 25 training images and test it on the rest 75 samples, show the results. Better to fine-tuning several times on different 100 EuroSAT images and get their average result. (7 points)"
   ]
  },
  {
   "cell_type": "code",
   "execution_count": 4,
   "metadata": {},
   "outputs": [],
   "source": [
    "# Download miniImageNet & EuroSAT(RGB)\n",
    "\n",
    "# Split miniImageNet into training\n",
    "\n",
    "# Pretrain a model\n",
    "# ResNet10 / ResNet18 / VGG / Vision Transformer / etc\n",
    "\n",
    "# Validate on validation set \n",
    "\n",
    "# Evaluate on test set\n",
    "\n",
    "# Save pretrained model\n",
    "\n",
    "# Choose 100 images from EuroSAT dataset\n",
    "# 25 samples for 5 categories\n",
    "\n",
    "# Randomly choose 25 images as training set\n",
    "# 5 images for 5 categories\n",
    "\n",
    "# Fine-tune the pretrained model\n",
    "\n",
    "# Test model on the rest 75 samples\n",
    "# Show results\n",
    "\n",
    "# fine-tuning several times on different 100 EuroSAT images\n",
    "\n",
    "# Get their average result\n"
   ]
  },
  {
   "cell_type": "markdown",
   "metadata": {},
   "source": [
    "### Compare the performance of different models (ResNet18, VGG, Vision Transformer, etc.), and investigate the different optimization strategies. (This part will be used as a bonus item, 2 points)"
   ]
  },
  {
   "cell_type": "code",
   "execution_count": 2,
   "metadata": {},
   "outputs": [],
   "source": [
    "# Use other models\n",
    "# ResNet10 / ResNet18 / VGG / Vision Transformer / etc\n",
    "\n",
    "# Use different optimization strategies\n",
    "\n",
    "# Compare the performance\n"
   ]
  },
  {
   "cell_type": "markdown",
   "metadata": {},
   "source": [
    "### If it’s possible, you can evaluate on the other datasets such as CropDiseases, CUB, ISIC, ChestX, etc. (This part will be used as a bonus item, 2 points)"
   ]
  },
  {
   "cell_type": "code",
   "execution_count": 3,
   "metadata": {},
   "outputs": [],
   "source": [
    "# Evaluate on other datasets\n",
    "# CropDiseases / CUB / ISIC / ChestX / etc\n"
   ]
  },
  {
   "cell_type": "code",
   "execution_count": null,
   "metadata": {},
   "outputs": [],
   "source": []
  }
 ],
 "metadata": {
  "kernelspec": {
   "display_name": "Python 3 (ipykernel)",
   "language": "python",
   "name": "python3"
  },
  "language_info": {
   "codemirror_mode": {
    "name": "ipython",
    "version": 3
   },
   "file_extension": ".py",
   "mimetype": "text/x-python",
   "name": "python",
   "nbconvert_exporter": "python",
   "pygments_lexer": "ipython3",
   "version": "3.10.11"
  }
 },
 "nbformat": 4,
 "nbformat_minor": 4
}
